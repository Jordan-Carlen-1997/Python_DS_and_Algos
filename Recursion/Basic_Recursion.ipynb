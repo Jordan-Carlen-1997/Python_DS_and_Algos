{
  "nbformat": 4,
  "nbformat_minor": 0,
  "metadata": {
    "colab": {
      "name": "Template.ipynb",
      "provenance": []
    },
    "kernelspec": {
      "name": "python3",
      "display_name": "Python 3"
    },
    "language_info": {
      "name": "python"
    }
  },
  "cells": [
    {
      "cell_type": "code",
      "metadata": {
        "id": "pr6RLO9R9YFw"
      },
      "source": [
        "def listsum(numList):\n",
        "   if len(numList) == 1:\n",
        "        return numList[0]\n",
        "   else:\n",
        "        return numList[0] + listsum(numList[1:])\n",
        "\n",
        "print(listsum([1,3,5,7,9]))"
      ],
      "execution_count": 2,
      "outputs": []
    }
  ]
}